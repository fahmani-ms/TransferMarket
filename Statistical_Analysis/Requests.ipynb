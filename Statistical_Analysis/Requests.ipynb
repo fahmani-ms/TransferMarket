{
 "cells": [
  {
   "attachments": {},
   "cell_type": "markdown",
   "metadata": {},
   "source": [
    "# Players Request\n",
    "\n",
    "#### Code Description: Retrieving Players' Data from MySQL Database\n",
    "\n",
    "The following code demonstrates how to retrieve players' data from a MySQL database using Python's `pandas` library and the `mysql.connector` module."
   ]
  },
  {
   "cell_type": "code",
   "execution_count": null,
   "metadata": {},
   "outputs": [],
   "source": [
    "import numpy as np\n",
    "import pandas as pd\n",
    "import matplotlib.pyplot as plt\n",
    "from pathlib import Path\n",
    "import mysql.connector"
   ]
  },
  {
   "cell_type": "code",
   "execution_count": null,
   "metadata": {},
   "outputs": [],
   "source": [
    "username = 'root'\n",
    "user_password = 'Sadegh74'"
   ]
  },
  {
   "cell_type": "code",
   "execution_count": null,
   "metadata": {},
   "outputs": [],
   "source": [
    "cnx = mysql.connector.connect(\n",
    "    user=username,\n",
    "    password=user_password,\n",
    "    host='localhost',\n",
    "    database='test_project'\n",
    ")"
   ]
  },
  {
   "cell_type": "code",
   "execution_count": null,
   "metadata": {},
   "outputs": [],
   "source": [
    "q_players_req = \"SELECT c.name, clubs_season.goals_scored, clubs_season.goals_conceded FROM clubs_season JOIN clubs c on clubs_season.club_id = c.id JOIN seasons s on clubs_season.season_id = s.id WHERE start_date = 2021;\"\n",
    "players_req = pd.read_sql(q_players_req, con=cnx)\n",
    "players_req"
   ]
  },
  {
   "attachments": {},
   "cell_type": "markdown",
   "metadata": {},
   "source": [
    "#### Description\n",
    "The code begins by importing necessary libraries such as numpy, pandas, matplotlib.pyplot, and pathlib. It also imports the mysql.connector module for establishing a connection with the MySQL database.\n",
    "\n",
    "You need to provide your MySQL database username and password in the variables username and user_password, respectively.\n",
    "\n",
    "The code establishes a connection to the MySQL database using the mysql.connector.connect() method. You need to specify the host and database details accordingly.\n",
    "\n",
    "The SQL query q_players_req retrieves data from the database, including the club name, goals scored, and goals conceded for the given season (2021 in this example). The query joins the tables clubs_season, clubs, and seasons based on their respective relationships.\n",
    "\n",
    "The pd.read_sql() function from the pandas library is used to execute the SQL query and fetch the result set into a DataFrame named players_req. The con parameter specifies the MySQL database connection object.\n",
    "\n",
    "Finally, the code displays the players_req DataFrame, showing the retrieved players' data from the MySQL database."
   ]
  },
  {
   "attachments": {},
   "cell_type": "markdown",
   "metadata": {},
   "source": [
    "### Goal Difference Efficiency (GDE)\n",
    "\n",
    "The Goal Difference Efficiency (GDE) is a Key Performance Indicator (KPI) used to evaluate the performance of football teams based on their goal-scoring ability and defensive record. It provides insights into the relative strength of a team's attack compared to their defense.\n",
    "\n",
    "#### Formula\n",
    "\n",
    "The GDE is calculated using the following formula:\n",
    "\n",
    "GDE = Goals Scored / Goals Conceded\n",
    "\n",
    "\n",
    "#### Interpretation\n",
    "\n",
    "A higher GDE value indicates a stronger attacking performance relative to defensive capabilities. It suggests that the team is effective at scoring goals while maintaining a solid defensive record. On the other hand, a lower GDE value signifies weaker attackers and potentially stronger defenses.\n",
    "\n",
    "#### Application\n",
    "\n",
    "By comparing the GDE values of different teams, you can identify those with a higher ratio of goals scored to goals conceded, highlighting their strong attacking prowess. Conversely, teams with a lower GDE are likely to have weaker attackers and potentially stronger defenses.\n",
    "\n",
    "Please note that while GDE provides a useful initial indicator of a team's attacking and defensive strengths, it should be considered alongside other factors for a comprehensive evaluation of their overall performance."
   ]
  },
  {
   "cell_type": "code",
   "execution_count": null,
   "metadata": {},
   "outputs": [],
   "source": [
    "players_req[\"GDE\"] = players_req[\"goals_scored\"]/players_req[\"goals_conceded\"]\n",
    "players_req = players_req.sort_values(by=\"GDE\", ascending=True)\n",
    "players_req"
   ]
  }
 ],
 "metadata": {
  "kernelspec": {
   "display_name": "quera",
   "language": "python",
   "name": "python3"
  },
  "language_info": {
   "name": "python",
   "version": "3.9.16"
  },
  "orig_nbformat": 4
 },
 "nbformat": 4,
 "nbformat_minor": 2
}
