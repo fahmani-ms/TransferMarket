{
 "cells": [
  {
   "attachments": {},
   "cell_type": "markdown",
   "metadata": {},
   "source": [
    "# 5. Hypothesis Testing"
   ]
  },
  {
   "cell_type": "code",
   "execution_count": 10,
   "metadata": {},
   "outputs": [],
   "source": [
    "import numpy as np\n",
    "import pandas as pd\n",
    "import matplotlib.pyplot as plt\n",
    "from pathlib import Path\n",
    "import mysql.connector\n",
    "import datetime\n",
    "import math\n",
    "from scipy import stats"
   ]
  },
  {
   "cell_type": "code",
   "execution_count": 11,
   "metadata": {},
   "outputs": [],
   "source": [
    "username = 'root'\n",
    "user_password = ''"
   ]
  },
  {
   "cell_type": "code",
   "execution_count": 12,
   "metadata": {},
   "outputs": [],
   "source": [
    "cnx = mysql.connector.connect(\n",
    "    user=username,\n",
    "    password=user_password,\n",
    "    host='localhost',\n",
    "    database='test_project'\n",
    ")"
   ]
  },
  {
   "attachments": {},
   "cell_type": "markdown",
   "metadata": {},
   "source": [
    "### 5.1. Players'Performance at the First Season in Each Team"
   ]
  },
  {
   "cell_type": "code",
   "execution_count": 13,
   "metadata": {},
   "outputs": [
    {
     "data": {
      "text/html": [
       "<div>\n",
       "<style scoped>\n",
       "    .dataframe tbody tr th:only-of-type {\n",
       "        vertical-align: middle;\n",
       "    }\n",
       "\n",
       "    .dataframe tbody tr th {\n",
       "        vertical-align: top;\n",
       "    }\n",
       "\n",
       "    .dataframe thead th {\n",
       "        text-align: right;\n",
       "    }\n",
       "</style>\n",
       "<table border=\"1\" class=\"dataframe\">\n",
       "  <thead>\n",
       "    <tr style=\"text-align: right;\">\n",
       "      <th></th>\n",
       "      <th>Id</th>\n",
       "      <th>player_id</th>\n",
       "      <th>origin_club_id</th>\n",
       "      <th>destination_club_id</th>\n",
       "      <th>season_id</th>\n",
       "      <th>market_value</th>\n",
       "      <th>fee</th>\n",
       "      <th>id</th>\n",
       "      <th>player_id</th>\n",
       "      <th>season_id</th>\n",
       "      <th>...</th>\n",
       "      <th>birth_place</th>\n",
       "      <th>citizenship</th>\n",
       "      <th>position</th>\n",
       "      <th>national_id</th>\n",
       "      <th>current_value</th>\n",
       "      <th>agent</th>\n",
       "      <th>foot</th>\n",
       "      <th>id</th>\n",
       "      <th>start_date</th>\n",
       "      <th>end_date</th>\n",
       "    </tr>\n",
       "  </thead>\n",
       "  <tbody>\n",
       "    <tr>\n",
       "      <th>0</th>\n",
       "      <td>1</td>\n",
       "      <td>2</td>\n",
       "      <td>1</td>\n",
       "      <td>3</td>\n",
       "      <td>1</td>\n",
       "      <td>50000</td>\n",
       "      <td>23000</td>\n",
       "      <td>2</td>\n",
       "      <td>2</td>\n",
       "      <td>1</td>\n",
       "      <td>...</td>\n",
       "      <td>None</td>\n",
       "      <td>None</td>\n",
       "      <td>Centre-Back</td>\n",
       "      <td>2</td>\n",
       "      <td>62513.0</td>\n",
       "      <td>ZTUHS</td>\n",
       "      <td>right</td>\n",
       "      <td>1</td>\n",
       "      <td>2021</td>\n",
       "      <td>2022</td>\n",
       "    </tr>\n",
       "    <tr>\n",
       "      <th>1</th>\n",
       "      <td>2</td>\n",
       "      <td>9</td>\n",
       "      <td>2</td>\n",
       "      <td>1</td>\n",
       "      <td>1</td>\n",
       "      <td>77000</td>\n",
       "      <td>23000</td>\n",
       "      <td>9</td>\n",
       "      <td>9</td>\n",
       "      <td>1</td>\n",
       "      <td>...</td>\n",
       "      <td>None</td>\n",
       "      <td>None</td>\n",
       "      <td>Centre-Back</td>\n",
       "      <td>3</td>\n",
       "      <td>70513.0</td>\n",
       "      <td>JZMWC</td>\n",
       "      <td>left</td>\n",
       "      <td>1</td>\n",
       "      <td>2021</td>\n",
       "      <td>2022</td>\n",
       "    </tr>\n",
       "    <tr>\n",
       "      <th>2</th>\n",
       "      <td>3</td>\n",
       "      <td>18</td>\n",
       "      <td>3</td>\n",
       "      <td>2</td>\n",
       "      <td>1</td>\n",
       "      <td>35000</td>\n",
       "      <td>87000</td>\n",
       "      <td>18</td>\n",
       "      <td>18</td>\n",
       "      <td>1</td>\n",
       "      <td>...</td>\n",
       "      <td>None</td>\n",
       "      <td>None</td>\n",
       "      <td>Centre-Back</td>\n",
       "      <td>2</td>\n",
       "      <td>64512.0</td>\n",
       "      <td>CJRHE</td>\n",
       "      <td>right</td>\n",
       "      <td>1</td>\n",
       "      <td>2021</td>\n",
       "      <td>2022</td>\n",
       "    </tr>\n",
       "  </tbody>\n",
       "</table>\n",
       "<p>3 rows × 43 columns</p>\n",
       "</div>"
      ],
      "text/plain": [
       "   Id  player_id  origin_club_id  destination_club_id  season_id  \\\n",
       "0   1          2               1                    3          1   \n",
       "1   2          9               2                    1          1   \n",
       "2   3         18               3                    2          1   \n",
       "\n",
       "   market_value    fee  id  player_id  season_id  ...  birth_place  \\\n",
       "0         50000  23000   2          2          1  ...         None   \n",
       "1         77000  23000   9          9          1  ...         None   \n",
       "2         35000  87000  18         18          1  ...         None   \n",
       "\n",
       "   citizenship     position  national_id  current_value  agent   foot  id  \\\n",
       "0         None  Centre-Back            2        62513.0  ZTUHS  right   1   \n",
       "1         None  Centre-Back            3        70513.0  JZMWC   left   1   \n",
       "2         None  Centre-Back            2        64512.0  CJRHE  right   1   \n",
       "\n",
       "   start_date  end_date  \n",
       "0        2021      2022  \n",
       "1        2021      2022  \n",
       "2        2021      2022  \n",
       "\n",
       "[3 rows x 43 columns]"
      ]
     },
     "execution_count": 13,
     "metadata": {},
     "output_type": "execute_result"
    }
   ],
   "source": [
    "q_h1 = \"SELECT * FROM transfers AS t JOIN players_season ps on ps.player_id = t.player_id AND t.season_id = ps.season_id JOIN players p on t.player_id = p.id JOIN seasons s on t.season_id = s.id WHERE start_date BETWEEN 2017 AND 2021;\"\n",
    "H1 = pd.read_sql(q_h1, con=cnx)\n",
    "H1.head()"
   ]
  },
  {
   "cell_type": "code",
   "execution_count": 14,
   "metadata": {},
   "outputs": [
    {
     "data": {
      "text/html": [
       "<div>\n",
       "<style scoped>\n",
       "    .dataframe tbody tr th:only-of-type {\n",
       "        vertical-align: middle;\n",
       "    }\n",
       "\n",
       "    .dataframe tbody tr th {\n",
       "        vertical-align: top;\n",
       "    }\n",
       "\n",
       "    .dataframe thead th {\n",
       "        text-align: right;\n",
       "    }\n",
       "</style>\n",
       "<table border=\"1\" class=\"dataframe\">\n",
       "  <thead>\n",
       "    <tr style=\"text-align: right;\">\n",
       "      <th></th>\n",
       "      <th>Id</th>\n",
       "      <th>player_id</th>\n",
       "      <th>origin_club_id</th>\n",
       "      <th>destination_club_id</th>\n",
       "      <th>season_id</th>\n",
       "      <th>market_value</th>\n",
       "      <th>fee</th>\n",
       "      <th>id</th>\n",
       "      <th>player_id</th>\n",
       "      <th>season_id</th>\n",
       "      <th>...</th>\n",
       "      <th>citizenship</th>\n",
       "      <th>position</th>\n",
       "      <th>national_id</th>\n",
       "      <th>current_value</th>\n",
       "      <th>agent</th>\n",
       "      <th>foot</th>\n",
       "      <th>id</th>\n",
       "      <th>start_date</th>\n",
       "      <th>end_date</th>\n",
       "      <th>PPI</th>\n",
       "    </tr>\n",
       "  </thead>\n",
       "  <tbody>\n",
       "    <tr>\n",
       "      <th>0</th>\n",
       "      <td>1</td>\n",
       "      <td>2</td>\n",
       "      <td>1</td>\n",
       "      <td>3</td>\n",
       "      <td>1</td>\n",
       "      <td>50000</td>\n",
       "      <td>23000</td>\n",
       "      <td>2</td>\n",
       "      <td>2</td>\n",
       "      <td>1</td>\n",
       "      <td>...</td>\n",
       "      <td>None</td>\n",
       "      <td>Centre-Back</td>\n",
       "      <td>2</td>\n",
       "      <td>62513.0</td>\n",
       "      <td>ZTUHS</td>\n",
       "      <td>right</td>\n",
       "      <td>1</td>\n",
       "      <td>2021</td>\n",
       "      <td>2022</td>\n",
       "      <td>0</td>\n",
       "    </tr>\n",
       "    <tr>\n",
       "      <th>1</th>\n",
       "      <td>2</td>\n",
       "      <td>9</td>\n",
       "      <td>2</td>\n",
       "      <td>1</td>\n",
       "      <td>1</td>\n",
       "      <td>77000</td>\n",
       "      <td>23000</td>\n",
       "      <td>9</td>\n",
       "      <td>9</td>\n",
       "      <td>1</td>\n",
       "      <td>...</td>\n",
       "      <td>None</td>\n",
       "      <td>Centre-Back</td>\n",
       "      <td>3</td>\n",
       "      <td>70513.0</td>\n",
       "      <td>JZMWC</td>\n",
       "      <td>left</td>\n",
       "      <td>1</td>\n",
       "      <td>2021</td>\n",
       "      <td>2022</td>\n",
       "      <td>0</td>\n",
       "    </tr>\n",
       "    <tr>\n",
       "      <th>2</th>\n",
       "      <td>3</td>\n",
       "      <td>18</td>\n",
       "      <td>3</td>\n",
       "      <td>2</td>\n",
       "      <td>1</td>\n",
       "      <td>35000</td>\n",
       "      <td>87000</td>\n",
       "      <td>18</td>\n",
       "      <td>18</td>\n",
       "      <td>1</td>\n",
       "      <td>...</td>\n",
       "      <td>None</td>\n",
       "      <td>Centre-Back</td>\n",
       "      <td>2</td>\n",
       "      <td>64512.0</td>\n",
       "      <td>CJRHE</td>\n",
       "      <td>right</td>\n",
       "      <td>1</td>\n",
       "      <td>2021</td>\n",
       "      <td>2022</td>\n",
       "      <td>0</td>\n",
       "    </tr>\n",
       "  </tbody>\n",
       "</table>\n",
       "<p>3 rows × 44 columns</p>\n",
       "</div>"
      ],
      "text/plain": [
       "   Id  player_id  origin_club_id  destination_club_id  season_id  \\\n",
       "0   1          2               1                    3          1   \n",
       "1   2          9               2                    1          1   \n",
       "2   3         18               3                    2          1   \n",
       "\n",
       "   market_value    fee  id  player_id  season_id  ...  citizenship  \\\n",
       "0         50000  23000   2          2          1  ...         None   \n",
       "1         77000  23000   9          9          1  ...         None   \n",
       "2         35000  87000  18         18          1  ...         None   \n",
       "\n",
       "      position  national_id  current_value  agent   foot  id  start_date  \\\n",
       "0  Centre-Back            2        62513.0  ZTUHS  right   1        2021   \n",
       "1  Centre-Back            3        70513.0  JZMWC   left   1        2021   \n",
       "2  Centre-Back            2        64512.0  CJRHE  right   1        2021   \n",
       "\n",
       "   end_date  PPI  \n",
       "0      2022    0  \n",
       "1      2022    0  \n",
       "2      2022    0  \n",
       "\n",
       "[3 rows x 44 columns]"
      ]
     },
     "execution_count": 14,
     "metadata": {},
     "output_type": "execute_result"
    }
   ],
   "source": [
    "H1['PPI'] = 0\n",
    "\n",
    "for index, row in H1.iterrows():\n",
    "    position = row['position']\n",
    "    minutes_played = row['minutes_played']\n",
    "    goals = row['goals']\n",
    "    assists = row['assists']\n",
    "    clean_sheets = row['clean_sheets']\n",
    "    goals_conceded = row['goals_conceded']\n",
    "    \n",
    "    if position == 'Goalkeeper':\n",
    "        H1.at[index, 'PPI'] = clean_sheets * 10 + goals_conceded * (-5) + (minutes_played / 90) * 2\n",
    "    elif position == 'Defender':\n",
    "        H1.at[index, 'PPI'] = clean_sheets * 5 + goals * 6 + assists * 3 + (minutes_played / 90) * 2\n",
    "    elif position == 'Midfielder':\n",
    "        H1.at[index, 'PPI'] = goals * 5 + assists * 7 + (minutes_played / 90) * 2\n",
    "    elif position == 'Forward':\n",
    "        H1.at[index, 'PPI'] = goals * 8 + assists * 5 + (minutes_played / 90) * 2\n",
    "\n",
    "H1"
   ]
  },
  {
   "cell_type": "code",
   "execution_count": 15,
   "metadata": {},
   "outputs": [],
   "source": [
    "current_year = datetime.date.today().year\n",
    "H1['Historical_Age'] = H1['age'] - H1['start_date'].apply(lambda x: current_year - x)\n",
    "H1_young = H1[H1['Historical_Age'] <= 30]\n",
    "H1_old = H1[H1['Historical_Age'] > 30]"
   ]
  },
  {
   "cell_type": "code",
   "execution_count": 16,
   "metadata": {},
   "outputs": [
    {
     "name": "stdout",
     "output_type": "stream",
     "text": [
      "Fail to reject the null hypothesis. There is no significant evidence to conclude that players older than 30 have better performance than players younger than 30.\n"
     ]
    },
    {
     "name": "stderr",
     "output_type": "stream",
     "text": [
      "c:\\Users\\battlebox\\anaconda3\\envs\\quera\\lib\\site-packages\\scipy\\stats\\_stats_py.py:1214: RuntimeWarning: divide by zero encountered in divide\n",
      "  var *= np.divide(n, n-ddof)  # to avoid error on division by zero\n",
      "c:\\Users\\battlebox\\anaconda3\\envs\\quera\\lib\\site-packages\\scipy\\stats\\_stats_py.py:1214: RuntimeWarning: invalid value encountered in double_scalars\n",
      "  var *= np.divide(n, n-ddof)  # to avoid error on division by zero\n"
     ]
    }
   ],
   "source": [
    "ppi_younger = H1_young['PPI'].values\n",
    "ppi_older = H1_old['PPI'].values\n",
    "\n",
    "t_statistic, p_value = stats.ttest_ind(ppi_younger, ppi_older)\n",
    "\n",
    "alpha = 0.05\n",
    "\n",
    "if p_value < alpha:\n",
    "    print(\"Reject the null hypothesis. There is evidence that players older than 30 have better performance than players younger than 30.\")\n",
    "else:\n",
    "    print(\"Fail to reject the null hypothesis. There is no significant evidence to conclude that players older than 30 have better performance than players younger than 30.\")"
   ]
  },
  {
   "attachments": {},
   "cell_type": "markdown",
   "metadata": {},
   "source": [
    "### 5.3. Active Players vs Age"
   ]
  },
  {
   "cell_type": "code",
   "execution_count": 46,
   "metadata": {},
   "outputs": [
    {
     "data": {
      "text/html": [
       "<div>\n",
       "<style scoped>\n",
       "    .dataframe tbody tr th:only-of-type {\n",
       "        vertical-align: middle;\n",
       "    }\n",
       "\n",
       "    .dataframe tbody tr th {\n",
       "        vertical-align: top;\n",
       "    }\n",
       "\n",
       "    .dataframe thead th {\n",
       "        text-align: right;\n",
       "    }\n",
       "</style>\n",
       "<table border=\"1\" class=\"dataframe\">\n",
       "  <thead>\n",
       "    <tr style=\"text-align: right;\">\n",
       "      <th></th>\n",
       "      <th>name</th>\n",
       "      <th>players_avg_age</th>\n",
       "      <th>active_players</th>\n",
       "    </tr>\n",
       "  </thead>\n",
       "  <tbody>\n",
       "    <tr>\n",
       "      <th>0</th>\n",
       "      <td>club3</td>\n",
       "      <td>26</td>\n",
       "      <td>8</td>\n",
       "    </tr>\n",
       "    <tr>\n",
       "      <th>1</th>\n",
       "      <td>club4</td>\n",
       "      <td>27</td>\n",
       "      <td>7</td>\n",
       "    </tr>\n",
       "  </tbody>\n",
       "</table>\n",
       "</div>"
      ],
      "text/plain": [
       "    name  players_avg_age  active_players\n",
       "0  club3               26               8\n",
       "1  club4               27               7"
      ]
     },
     "execution_count": 46,
     "metadata": {},
     "output_type": "execute_result"
    }
   ],
   "source": [
    "'''top_leagues = ['Premier League', 'La Liga', 'Bundesliga', 'Serie A', 'Ligue 1']\n",
    "top_leagues_str = ','.join(map(str, top_leagues))\n",
    "q_h3 = f\"SELECT c.name, cs.players_avg_age, count((appearance/cs.matches)>= 0.2) AS active_players FROM players_season AS ps JOIN clubs_season cs on ps.club_id = cs.club_id AND cs.season_id = ps.season_id JOIN seasons s on ps.season_id = s.id JOIN competitions c2 on cs.competition_id = c2.id JOIN clubs c on ps.club_id = c.id WHERE start_date = 2021 AND c2.name IN ({top_leagues_str}) GROUP BY cs.id ORDER BY active_players desc;\"'''\n",
    "\n",
    "q_h3 = f\"SELECT c.name, cs.players_avg_age, count((appearance/cs.matches)>= 0.2) AS active_players FROM players_season AS ps JOIN clubs_season cs on ps.club_id = cs.club_id AND cs.season_id = ps.season_id JOIN seasons s on ps.season_id = s.id JOIN competitions c2 on cs.competition_id = c2.id JOIN clubs c on ps.club_id = c.id WHERE start_date = 2021 AND c2.name IN ('league 1 ','league 2') GROUP BY cs.id ORDER BY active_players desc;\"\n",
    "\n",
    "H3 = pd.read_sql(q_h3, con=cnx)\n",
    "H3.head()"
   ]
  },
  {
   "cell_type": "code",
   "execution_count": 9,
   "metadata": {},
   "outputs": [
    {
     "data": {
      "image/png": "[encoded data removed]",
      "text/plain": [
       "<Figure size 640x480 with 2 Axes>"
      ]
     },
     "metadata": {},
     "output_type": "display_data"
    }
   ],
   "source": [
    "import numpy as np\n",
    "import matplotlib.pyplot as plt\n",
    "\n",
    "min_age = H3['players_avg_age'].min()\n",
    "max_age = H3['players_avg_age'].max()\n",
    "\n",
    "num_batches = int((max_age - min_age) / 2) + 1\n",
    "batch_range = np.arange(min_age, max_age + 2, 2)\n",
    "\n",
    "# Create empty lists to store the average ages and active players for each batch\n",
    "avg_age_data = []\n",
    "active_players_data = []\n",
    "\n",
    "# Iterate through each batch and calculate the average age and active players\n",
    "for i in range(num_batches):\n",
    "    lower_bound = batch_range[i]\n",
    "    upper_bound = batch_range[i+1]\n",
    "    batch_data = H3[(H3['players_avg_age'] >= lower_bound) & (H3['players_avg_age'] < upper_bound)]\n",
    "    \n",
    "    avg_age = batch_data['players_avg_age'].mean()\n",
    "    active_players = batch_data['active_players'].sum()\n",
    "    \n",
    "    avg_age_data.append(avg_age)\n",
    "    active_players_data.append(active_players)\n",
    "\n",
    "\n",
    "x = np.arange(num_batches)\n",
    "width = 0.35\n",
    "\n",
    "fig, ax1 = plt.subplots()\n",
    "\n",
    "ax1.bar(x, avg_age_data, width, label='Average Age')\n",
    "ax1.set_xlabel('Age Batches')\n",
    "ax1.set_ylabel('Average Age')\n",
    "ax1.set_xticks(x)\n",
    "ax1.set_xticklabels([f'{int(batch_range[i])}-{int(batch_range[i+1])}' for i in range(num_batches)])\n",
    "ax1.legend(loc='upper left')\n",
    "\n",
    "ax2 = ax1.twinx()\n",
    "ax2.plot(x, active_players_data, color='red', marker='o', label='Active players')\n",
    "ax2.set_ylabel('Active players')\n",
    "ax2.legend(loc='upper right')\n",
    "\n",
    "plt.title('Comparison of Average Age and Active players by Age Batches')\n",
    "plt.tight_layout()\n",
    "plt.show()\n"
   ]
  },
  {
   "cell_type": "code",
   "execution_count": 59,
   "metadata": {},
   "outputs": [],
   "source": [
    "H3 = pd.DataFrame({'name': ['Club A', 'Club B', 'Club C', 'Club D', 'Club E'],\n",
    "                   'players_avg_age': [20.3, 27.8, 29.5, 38.1, 24.9],\n",
    "                   'active_players': [15, 18, 20, 14, 16]})"
   ]
  },
  {
   "cell_type": "code",
   "execution_count": 64,
   "metadata": {},
   "outputs": [
    {
     "data": {
      "text/plain": [
       "IntervalIndex([(20.3, 22.585714285714285], (22.585714285714285, 24.87142857142857], (24.87142857142857, 27.15714285714286], (27.15714285714286, 29.442857142857143], (29.442857142857143, 31.728571428571428], (31.728571428571428, 34.01428571428571], (34.01428571428571, 36.3]], dtype='interval[float64, right]')"
      ]
     },
     "execution_count": 64,
     "metadata": {},
     "output_type": "execute_result"
    }
   ],
   "source": [
    "age_intervals"
   ]
  },
  {
   "cell_type": "code",
   "execution_count": 60,
   "metadata": {},
   "outputs": [],
   "source": [
    "# Define the intervals for average age groups\n",
    "age_intervals = pd.interval_range(start=min(H3['players_avg_age']), end=max(H3['players_avg_age']), freq=2)\n",
    "\n",
    "# Group the teams based on average age\n",
    "H3['age_group'] = pd.cut(H3['players_avg_age'], bins=age_intervals, labels=False)\n"
   ]
  },
  {
   "cell_type": "code",
   "execution_count": 61,
   "metadata": {},
   "outputs": [
    {
     "data": {
      "image/png": "[encoded data removed]",
      "text/plain": [
       "<Figure size 640x480 with 1 Axes>"
      ]
     },
     "metadata": {},
     "output_type": "display_data"
    }
   ],
   "source": [
    "# Group the data by age group and calculate the number of active members\n",
    "active_counts = H3.groupby('age_group')['active_players'].sum()\n",
    "\n",
    "# Plot the distribution\n",
    "plt.bar(active_counts.index.astype(str), active_counts)\n",
    "plt.xlabel('Age Group')\n",
    "plt.ylabel('Number of Active Members')\n",
    "plt.title('Distribution of Active Members by Age Group')\n",
    "plt.show()\n"
   ]
  },
  {
   "cell_type": "code",
   "execution_count": 62,
   "metadata": {},
   "outputs": [
    {
     "data": {
      "text/html": [
       "<div>\n",
       "<style scoped>\n",
       "    .dataframe tbody tr th:only-of-type {\n",
       "        vertical-align: middle;\n",
       "    }\n",
       "\n",
       "    .dataframe tbody tr th {\n",
       "        vertical-align: top;\n",
       "    }\n",
       "\n",
       "    .dataframe thead th {\n",
       "        text-align: right;\n",
       "    }\n",
       "</style>\n",
       "<table border=\"1\" class=\"dataframe\">\n",
       "  <thead>\n",
       "    <tr style=\"text-align: right;\">\n",
       "      <th></th>\n",
       "      <th>name</th>\n",
       "      <th>players_avg_age</th>\n",
       "      <th>active_players</th>\n",
       "      <th>age_group</th>\n",
       "    </tr>\n",
       "  </thead>\n",
       "  <tbody>\n",
       "    <tr>\n",
       "      <th>0</th>\n",
       "      <td>Club A</td>\n",
       "      <td>20.3</td>\n",
       "      <td>15</td>\n",
       "      <td>NaN</td>\n",
       "    </tr>\n",
       "    <tr>\n",
       "      <th>1</th>\n",
       "      <td>Club B</td>\n",
       "      <td>27.8</td>\n",
       "      <td>18</td>\n",
       "      <td>(27.15714285714286, 29.442857142857143]</td>\n",
       "    </tr>\n",
       "    <tr>\n",
       "      <th>2</th>\n",
       "      <td>Club C</td>\n",
       "      <td>29.5</td>\n",
       "      <td>20</td>\n",
       "      <td>(29.442857142857143, 31.728571428571428]</td>\n",
       "    </tr>\n",
       "    <tr>\n",
       "      <th>3</th>\n",
       "      <td>Club D</td>\n",
       "      <td>38.1</td>\n",
       "      <td>14</td>\n",
       "      <td>NaN</td>\n",
       "    </tr>\n",
       "    <tr>\n",
       "      <th>4</th>\n",
       "      <td>Club E</td>\n",
       "      <td>24.9</td>\n",
       "      <td>16</td>\n",
       "      <td>(24.87142857142857, 27.15714285714286]</td>\n",
       "    </tr>\n",
       "  </tbody>\n",
       "</table>\n",
       "</div>"
      ],
      "text/plain": [
       "     name  players_avg_age  active_players  \\\n",
       "0  Club A             20.3              15   \n",
       "1  Club B             27.8              18   \n",
       "2  Club C             29.5              20   \n",
       "3  Club D             38.1              14   \n",
       "4  Club E             24.9              16   \n",
       "\n",
       "                                  age_group  \n",
       "0                                       NaN  \n",
       "1   (27.15714285714286, 29.442857142857143]  \n",
       "2  (29.442857142857143, 31.728571428571428]  \n",
       "3                                       NaN  \n",
       "4    (24.87142857142857, 27.15714285714286]  "
      ]
     },
     "execution_count": 62,
     "metadata": {},
     "output_type": "execute_result"
    }
   ],
   "source": [
    "H3"
   ]
  },
  {
   "cell_type": "code",
   "execution_count": 53,
   "metadata": {},
   "outputs": [
    {
     "name": "stdout",
     "output_type": "stream",
     "text": [
      "ANOVA Test Results:\n",
      "F-statistic: nan\n",
      "p-value: nan\n"
     ]
    },
    {
     "name": "stderr",
     "output_type": "stream",
     "text": [
      "c:\\Users\\battlebox\\anaconda3\\envs\\quera\\lib\\site-packages\\scipy\\stats\\_stats_py.py:3861: DegenerateDataWarning: at least one input has length 0\n",
      "  warnings.warn(stats.DegenerateDataWarning('at least one input '\n"
     ]
    }
   ],
   "source": [
    "from scipy.stats import f_oneway\n",
    "\n",
    "# Assuming you have the 'H3' DataFrame with columns: 'age_group' and 'active_members'\n",
    "\n",
    "# Extract the active members for each age group as separate arrays\n",
    "group1 = H3[H3['age_group'] == 0]['active_players']\n",
    "group2 = H3[H3['age_group'] == 1]['active_players']\n",
    "group3 = H3[H3['age_group'] == 2]['active_players']\n",
    "# Add more groups if you have more age intervals\n",
    "\n",
    "# Perform the ANOVA test\n",
    "statistic, p_value = f_oneway(group1, group2, group3)\n",
    "# Add more groups as additional arguments if needed\n",
    "\n",
    "# Print the results\n",
    "print(\"ANOVA Test Results:\")\n",
    "print(\"F-statistic:\", statistic)\n",
    "print(\"p-value:\", p_value)\n"
   ]
  }
 ],
 "metadata": {
  "kernelspec": {
   "display_name": "quera",
   "language": "python",
   "name": "python3"
  },
  "language_info": {
   "codemirror_mode": {
    "name": "ipython",
    "version": 3
   },
   "file_extension": ".py",
   "mimetype": "text/x-python",
   "name": "python",
   "nbconvert_exporter": "python",
   "pygments_lexer": "ipython3",
   "version": "3.9.16"
  },
  "orig_nbformat": 4
 },
 "nbformat": 4,
 "nbformat_minor": 2
}
